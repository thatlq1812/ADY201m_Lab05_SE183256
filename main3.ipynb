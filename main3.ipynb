{
 "cells": [
  {
   "cell_type": "markdown",
   "metadata": {},
   "source": [
    "Import libraries"
   ]
  },
  {
   "cell_type": "code",
   "execution_count": null,
   "metadata": {},
   "outputs": [],
   "source": [
    "# Import the necessary libraries\n",
    "import numpy as np\n",
    "import pandas as pd\n",
    "import tensorflow as tf\n",
    "import os\n",
    "from tensorflow.keras import layers, models, optimizers\n",
    "from sklearn.model_selection import train_test_split\n",
    "from sklearn.preprocessing import StandardScaler\n",
    "from sklearn.preprocessing import LabelEncoder\n",
    "from sklearn.metrics import mean_squared_error"
   ]
  },
  {
   "cell_type": "markdown",
   "metadata": {},
   "source": [
    "Load the dataset"
   ]
  },
  {
   "cell_type": "code",
   "execution_count": null,
   "metadata": {},
   "outputs": [],
   "source": [
    "# Folder path \n",
    "folder_path = 'D:\\FPTUni\\SP24\\ADY201m\\Lab05\\ADY201m_Lab05_SE183256'\n",
    "# Import the dataset\n",
    "train_data = pd.read_csv(os.path.join(folder_path, 'train.csv'))\n",
    "test_data = pd.read_csv(os.path.join(folder_path, 'test.csv'))\n",
    "output_path = os.path.join(folder_path, 'submission.csv')"
   ]
  },
  {
   "cell_type": "code",
   "execution_count": null,
   "metadata": {},
   "outputs": [],
   "source": [
    "# Save ID of test data\n",
    "test_id = test_data['Id']"
   ]
  },
  {
   "cell_type": "code",
   "execution_count": null,
   "metadata": {},
   "outputs": [],
   "source": [
    "# Drop unnecessary columns\n",
    "train_data = train_data.drop('Id', axis=1)"
   ]
  },
  {
   "cell_type": "markdown",
   "metadata": {},
   "source": [
    "House Price Distribution"
   ]
  },
  {
   "cell_type": "code",
   "execution_count": null,
   "metadata": {},
   "outputs": [],
   "source": [
    "# Setup threshold for missing values\n",
    "\n",
    "# === IMPORTANT ===\n",
    "\n",
    "\n",
    "# Here we will put the variable to choose the threshold\n",
    "threshold = 0.5\n",
    "\n",
    "\n",
    "# === IMPORTANT ==="
   ]
  },
  {
   "cell_type": "markdown",
   "metadata": {},
   "source": [
    "Numerical data distribution"
   ]
  },
  {
   "cell_type": "code",
   "execution_count": null,
   "metadata": {},
   "outputs": [],
   "source": [
    "# Because MSSubClass is int64 but it is a categorical variable, so we need to convert it to string\n",
    "train_data['MSSubClass'] = train_data['MSSubClass'].astype(str)"
   ]
  },
  {
   "cell_type": "code",
   "execution_count": null,
   "metadata": {},
   "outputs": [],
   "source": [
    "# Get the categorical columns\n",
    "categorical_cols = train_data.select_dtypes(include=['object']).columns.tolist()\n",
    "# Delete all categorical columns\n",
    "train_data = train_data.drop(categorical_cols, axis=1)"
   ]
  },
  {
   "cell_type": "code",
   "execution_count": null,
   "metadata": {},
   "outputs": [],
   "source": [
    "# Compute the correlation matrix with SalePrice\n",
    "corr_matrix = train_data.corr()\n",
    "corr_matrix['SalePrice'].sort_values(ascending=False)\n",
    "# ABS of correlation coefficient\n",
    "# Get the features that have the correlation coefficient with SalePrice greater than the threshold\n",
    "selected_features = corr_matrix['SalePrice'][corr_matrix['SalePrice'].abs() > threshold].index.tolist()\n",
    "# Display the selected features"
   ]
  },
  {
   "cell_type": "code",
   "execution_count": null,
   "metadata": {},
   "outputs": [],
   "source": [
    "# Create the scaler\n",
    "scaler = StandardScaler()\n",
    "scaler2 = StandardScaler()\n",
    "# Fit the scaler to the train data\n",
    "scaler.fit(train_data[selected_features])\n",
    "# Transform the train data\n",
    "train_data_scaled = scaler.transform(train_data[selected_features])"
   ]
  },
  {
   "cell_type": "code",
   "execution_count": null,
   "metadata": {},
   "outputs": [],
   "source": [
    "# Convert test data to same format with train data to predict, ( test data doest not have SalePrice column)\n",
    "# remove saleprice column from selected_features and make new selected_features2\n",
    "selected_features2 = selected_features.copy()\n",
    "selected_features2.remove('SalePrice')\n",
    "# if Id have in test data, we need to remove it, if not, we don't need to remove it\n",
    "if 'Id' in test_data.columns:\n",
    "    test_data = test_data.drop('Id', axis=1)\n",
    "scaler2.fit(test_data[selected_features2])\n",
    "test_data_scaled = scaler2.transform(test_data[selected_features2])"
   ]
  },
  {
   "cell_type": "code",
   "execution_count": null,
   "metadata": {},
   "outputs": [],
   "source": [
    "# Prepare the data\n",
    "y_train = train_data_scaled[:, -1]\n",
    "x_train = train_data_scaled[:, :-1]\n",
    "\n",
    "# Split the train data into train and test data\n",
    "x_train, x_test, y_train, y_test = train_test_split(x_train, y_train, test_size=0.1, random_state=42)"
   ]
  },
  {
   "cell_type": "code",
   "execution_count": null,
   "metadata": {},
   "outputs": [],
   "source": [
    "# Create the model\n",
    "model01 = models.Sequential([\n",
    "    layers.Dense(64, activation='relu', input_shape=(len(selected_features) - 1,)),\n",
    "    layers.Dense(64, activation='relu'),\n",
    "    layers.Dense(32, activation='relu'),\n",
    "    layers.Dense(16, activation='relu'),\n",
    "    layers.Dense(1, activation='linear')\n",
    "])\n",
    "\n",
    "# Compile the model\n",
    "model01.compile(optimizer='adam', loss='mse', metrics=['mae'])\n",
    "# Train the model\n",
    "model01.fit(x_train, y_train, epochs=40, batch_size=32, validation_data=(x_test, y_test))"
   ]
  },
  {
   "cell_type": "code",
   "execution_count": null,
   "metadata": {},
   "outputs": [],
   "source": [
    "# Save model to file\n",
    "model01.save('model01.house_price_prediction')"
   ]
  },
  {
   "cell_type": "code",
   "execution_count": null,
   "metadata": {},
   "outputs": [],
   "source": [
    "# Predict using the trained model\n",
    "result_scaled = model01.predict(test_data_scaled)\n",
    "\n",
    "# Combine scaled test data with scaled result\n",
    "combined_data_scaled = np.concatenate((test_data_scaled, result_scaled), axis=1)\n",
    "# Unscale the combined data to get the final result\n",
    "result = scaler.inverse_transform(combined_data_scaled)[:, -1]\n",
    "\n",
    "# Kiểm tra result có cái nào trống hoặc là số âm không, nếu có thì thay nó bằng 0\n",
    "result = np.where(result < 0, 0, result)\n",
    "result = np.where(np.isnan(result), 0, result)"
   ]
  },
  {
   "cell_type": "code",
   "execution_count": null,
   "metadata": {},
   "outputs": [],
   "source": [
    "# Create the submission file\n",
    "submission = pd.DataFrame({'Id': test_id, 'SalePrice': result})\n",
    "# Save the submission file\n",
    "submission.to_csv(output_path, index=False)"
   ]
  },
  {
   "cell_type": "code",
   "execution_count": 35,
   "metadata": {},
   "outputs": [
    {
     "name": "stdout",
     "output_type": "stream",
     "text": [
      "5/5 [==============================] - 0s 1ms/step\n",
      "Predicted: 153582.50820421384, Actual: 154500.0\n",
      "Predicted: 333776.0984796712, Actual: 325000.0\n",
      "Predicted: 106496.74789546207, Actual: 115000.0\n",
      "Predicted: 142865.95086824795, Actual: 159000.0\n",
      "Predicted: 338658.0430036284, Actual: 315500.0\n",
      "Predicted: 86679.00381538676, Actual: 75500.0\n",
      "Predicted: 196463.51086481693, Actual: 311500.0\n",
      "Predicted: 153160.2971308707, Actual: 146000.0\n",
      "Predicted: 84971.55678738217, Actual: 84500.0\n",
      "Predicted: 132927.6647332985, Actual: 135500.0\n",
      "Root Mean Squared Error: 36382.903801297856\n"
     ]
    }
   ],
   "source": [
    "# Predict using the trained model\n",
    "result_scaled = model01.predict(x_test)\n",
    "# Unscale the combined data to get the final result\n",
    "result = scaler.inverse_transform(np.concatenate((x_test, result_scaled), axis=1))[:, -1]\n",
    "y_test_unscaled = scaler.inverse_transform(np.concatenate((x_test, y_test.reshape(-1, 1)), axis=1))[:, -1]\n",
    "# Display random 100 results\n",
    "for i in range(10):\n",
    "    print(f'Predicted: {result[i]}, Actual: {y_test_unscaled[i]}')\n",
    "\n",
    "# Evaluate the model performance using Mean Squared Error\n",
    "mse = mean_squared_error(y_test_unscaled, result)\n",
    "\n",
    "# Print the Root Mean Squared Error\n",
    "print(\"Root Mean Squared Error:\", np.sqrt(mse))"
   ]
  },
  {
   "cell_type": "code",
   "execution_count": 34,
   "metadata": {},
   "outputs": [
    {
     "name": "stdout",
     "output_type": "stream",
     "text": [
      "Epoch [1/40], Loss: 1.1603\n",
      "Epoch [2/40], Loss: 1.1575\n",
      "Epoch [3/40], Loss: 1.1546\n",
      "Epoch [4/40], Loss: 1.1513\n",
      "Epoch [5/40], Loss: 1.1475\n",
      "Epoch [6/40], Loss: 1.1431\n",
      "Epoch [7/40], Loss: 1.1381\n",
      "Epoch [8/40], Loss: 1.1326\n",
      "Epoch [9/40], Loss: 1.1265\n",
      "Epoch [10/40], Loss: 1.1201\n",
      "Epoch [11/40], Loss: 1.1132\n",
      "Epoch [12/40], Loss: 1.1060\n",
      "Epoch [13/40], Loss: 1.0983\n",
      "Epoch [14/40], Loss: 1.0902\n",
      "Epoch [15/40], Loss: 1.0816\n",
      "Epoch [16/40], Loss: 1.0726\n",
      "Epoch [17/40], Loss: 1.0630\n",
      "Epoch [18/40], Loss: 1.0529\n",
      "Epoch [19/40], Loss: 1.0422\n",
      "Epoch [20/40], Loss: 1.0310\n",
      "Epoch [21/40], Loss: 1.0192\n",
      "Epoch [22/40], Loss: 1.0069\n",
      "Epoch [23/40], Loss: 0.9940\n",
      "Epoch [24/40], Loss: 0.9808\n",
      "Epoch [25/40], Loss: 0.9671\n",
      "Epoch [26/40], Loss: 0.9531\n",
      "Epoch [27/40], Loss: 0.9389\n",
      "Epoch [28/40], Loss: 0.9246\n",
      "Epoch [29/40], Loss: 0.9102\n",
      "Epoch [30/40], Loss: 0.8959\n",
      "Epoch [31/40], Loss: 0.8819\n",
      "Epoch [32/40], Loss: 0.8682\n",
      "Epoch [33/40], Loss: 0.8549\n",
      "Epoch [34/40], Loss: 0.8421\n",
      "Epoch [35/40], Loss: 0.8300\n",
      "Epoch [36/40], Loss: 0.8185\n",
      "Epoch [37/40], Loss: 0.8078\n",
      "Epoch [38/40], Loss: 0.7979\n",
      "Epoch [39/40], Loss: 0.7888\n",
      "Epoch [40/40], Loss: 0.7805\n",
      "Test Loss: 1.1924\n"
     ]
    },
    {
     "ename": "ValueError",
     "evalue": "non-broadcastable output operand with shape (146,1) doesn't match the broadcast shape (146,11)",
     "output_type": "error",
     "traceback": [
      "\u001b[1;31m---------------------------------------------------------------------------\u001b[0m",
      "\u001b[1;31mValueError\u001b[0m                                Traceback (most recent call last)",
      "Cell \u001b[1;32mIn[34], line 65\u001b[0m\n\u001b[0;32m     62\u001b[0m     \u001b[38;5;28mprint\u001b[39m(\u001b[38;5;124mf\u001b[39m\u001b[38;5;124m'\u001b[39m\u001b[38;5;124mTest Loss: \u001b[39m\u001b[38;5;132;01m{\u001b[39;00mtest_loss\u001b[38;5;241m.\u001b[39mitem()\u001b[38;5;132;01m:\u001b[39;00m\u001b[38;5;124m.4f\u001b[39m\u001b[38;5;132;01m}\u001b[39;00m\u001b[38;5;124m'\u001b[39m)\n\u001b[0;32m     64\u001b[0m \u001b[38;5;66;03m# Unscale the outputs to get the final result\u001b[39;00m\n\u001b[1;32m---> 65\u001b[0m outputs_unscaled \u001b[38;5;241m=\u001b[39m \u001b[43mscaler\u001b[49m\u001b[38;5;241;43m.\u001b[39;49m\u001b[43minverse_transform\u001b[49m\u001b[43m(\u001b[49m\u001b[43mtest_outputs\u001b[49m\u001b[38;5;241;43m.\u001b[39;49m\u001b[43mcpu\u001b[49m\u001b[43m(\u001b[49m\u001b[43m)\u001b[49m\u001b[38;5;241;43m.\u001b[39;49m\u001b[43mnumpy\u001b[49m\u001b[43m(\u001b[49m\u001b[43m)\u001b[49m\u001b[43m)\u001b[49m\u001b[38;5;241m.\u001b[39msqueeze()\n\u001b[0;32m     67\u001b[0m \u001b[38;5;66;03m# Evaluate the model performance using Mean Squared Error\u001b[39;00m\n\u001b[0;32m     68\u001b[0m mse \u001b[38;5;241m=\u001b[39m mean_squared_error(y_test_unscaled, outputs_unscaled)\n",
      "File \u001b[1;32m~\\AppData\\Roaming\\Python\\Python311\\site-packages\\sklearn\\preprocessing\\_data.py:1066\u001b[0m, in \u001b[0;36mStandardScaler.inverse_transform\u001b[1;34m(self, X, copy)\u001b[0m\n\u001b[0;32m   1064\u001b[0m \u001b[38;5;28;01melse\u001b[39;00m:\n\u001b[0;32m   1065\u001b[0m     \u001b[38;5;28;01mif\u001b[39;00m \u001b[38;5;28mself\u001b[39m\u001b[38;5;241m.\u001b[39mwith_std:\n\u001b[1;32m-> 1066\u001b[0m         \u001b[43mX\u001b[49m\u001b[43m \u001b[49m\u001b[38;5;241;43m*\u001b[39;49m\u001b[38;5;241;43m=\u001b[39;49m\u001b[43m \u001b[49m\u001b[38;5;28;43mself\u001b[39;49m\u001b[38;5;241;43m.\u001b[39;49m\u001b[43mscale_\u001b[49m\n\u001b[0;32m   1067\u001b[0m     \u001b[38;5;28;01mif\u001b[39;00m \u001b[38;5;28mself\u001b[39m\u001b[38;5;241m.\u001b[39mwith_mean:\n\u001b[0;32m   1068\u001b[0m         X \u001b[38;5;241m+\u001b[39m\u001b[38;5;241m=\u001b[39m \u001b[38;5;28mself\u001b[39m\u001b[38;5;241m.\u001b[39mmean_\n",
      "\u001b[1;31mValueError\u001b[0m: non-broadcastable output operand with shape (146,1) doesn't match the broadcast shape (146,11)"
     ]
    }
   ],
   "source": [
    "import torch\n",
    "import torch.nn as nn\n",
    "import torch.optim as optim\n",
    "from sklearn.metrics import mean_squared_error\n",
    "\n",
    "# Convert data to PyTorch tensors and move to GPU if available\n",
    "device = torch.device(\"cuda\" if torch.cuda.is_available() else \"cpu\")\n",
    "x_train_tensor = torch.tensor(x_train, dtype=torch.float32).to(device)\n",
    "y_train_tensor = torch.tensor(y_train, dtype=torch.float32).unsqueeze(1).to(device)\n",
    "x_test_tensor = torch.tensor(x_test, dtype=torch.float32).to(device)\n",
    "\n",
    "# Define the MLP model\n",
    "class MLP(nn.Module):\n",
    "    def __init__(self, input_size, hidden_size1, hidden_size2, hidden_size3, hidden_size4, output_size):\n",
    "        super(MLP, self).__init__()\n",
    "        self.fc1 = nn.Linear(input_size, hidden_size1)\n",
    "        self.fc2 = nn.Linear(hidden_size1, hidden_size2)\n",
    "        self.fc3 = nn.Linear(hidden_size2, hidden_size3)\n",
    "        self.fc4 = nn.Linear(hidden_size3, hidden_size4)\n",
    "        self.fc5 = nn.Linear(hidden_size4, output_size)\n",
    "        self.relu = nn.ReLU()\n",
    "        self.sigmoid = nn.Sigmoid()\n",
    "\n",
    "    def forward(self, x):\n",
    "        x = self.relu(self.fc1(x))  # Hidden layer 1 with ReLU activation\n",
    "        x = self.relu(self.fc2(x))  # Hidden layer 2 with ReLU activation\n",
    "        x = self.relu(self.fc3(x))  # Hidden layer 3 with ReLU activation\n",
    "        x = self.relu(self.fc4(x))  # Hidden layer 4 with ReLU activation\n",
    "        x = self.sigmoid(self.fc5(x))  # Output layer with Sigmoid activation\n",
    "        return x\n",
    "\n",
    "# Define model hyperparameters\n",
    "input_size = x_train_tensor.shape[1]\n",
    "hidden_size1 = 64\n",
    "hidden_size2 = 32\n",
    "hidden_size3 = 16\n",
    "hidden_size4 = 8\n",
    "output_size = 1\n",
    "\n",
    "# Create the model instance and move it to GPU\n",
    "model = MLP(input_size, hidden_size1, hidden_size2, hidden_size3, hidden_size4, output_size).to(device)\n",
    "\n",
    "# Define loss function and optimizer\n",
    "criterion = nn.MSELoss()\n",
    "optimizer = optim.Adam(model.parameters(), lr=0.001)\n",
    "\n",
    "# Train the model\n",
    "model.train()\n",
    "for epoch in range(40):\n",
    "    optimizer.zero_grad()\n",
    "    outputs = model(x_train_tensor)\n",
    "    loss = criterion(outputs, y_train_tensor)\n",
    "    loss.backward()\n",
    "    optimizer.step()\n",
    "    print(f'Epoch [{epoch+1}/40], Loss: {loss.item():.4f}')\n",
    "\n",
    "# Evaluate the model\n",
    "model.eval()\n",
    "with torch.no_grad():\n",
    "    test_outputs = model(x_test_tensor)\n",
    "    test_loss = criterion(test_outputs, torch.tensor(y_test, dtype=torch.float32).unsqueeze(1).to(device))\n",
    "    print(f'Test Loss: {test_loss.item():.4f}')\n",
    "\n",
    "# Unscale the outputs to get the final result\n",
    "outputs_unscaled = scaler.inverse_transform(test_outputs.cpu().numpy()).squeeze()\n",
    "\n",
    "# Evaluate the model performance using Mean Squared Error\n",
    "mse = mean_squared_error(y_test_unscaled, outputs_unscaled)\n",
    "\n",
    "# Print the Root Mean Squared Error\n",
    "print(\"Root Mean Squared Error:\", np.sqrt(mse))\n"
   ]
  }
 ],
 "metadata": {
  "kernelspec": {
   "display_name": "Python 3",
   "language": "python",
   "name": "python3"
  },
  "language_info": {
   "codemirror_mode": {
    "name": "ipython",
    "version": 3
   },
   "file_extension": ".py",
   "mimetype": "text/x-python",
   "name": "python",
   "nbconvert_exporter": "python",
   "pygments_lexer": "ipython3",
   "version": "3.11.5"
  }
 },
 "nbformat": 4,
 "nbformat_minor": 2
}
