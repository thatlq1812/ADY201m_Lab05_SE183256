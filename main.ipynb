{
 "cells": [
  {
   "cell_type": "markdown",
   "metadata": {},
   "source": [
    "Import libraries"
   ]
  },
  {
   "cell_type": "code",
   "execution_count": 47,
   "metadata": {},
   "outputs": [],
   "source": [
    "# Import the necessary libraries\n",
    "import numpy as np\n",
    "import pandas as pd\n",
    "import tensorflow as tf\n",
    "from tensorflow.keras import layers, models, optimizers\n",
    "from sklearn.model_selection import train_test_split\n",
    "from sklearn.preprocessing import StandardScaler\n",
    "from sklearn.preprocessing import LabelEncoder"
   ]
  },
  {
   "cell_type": "markdown",
   "metadata": {},
   "source": [
    "Load the dataset"
   ]
  },
  {
   "cell_type": "code",
   "execution_count": 48,
   "metadata": {},
   "outputs": [],
   "source": [
    "# Folder path \n",
    "folder_path = 'D:\\FPTUni\\SP24\\ADY201m\\Lab05\\ADY201m_Lab05_SE183256'\n",
    "output_path = 'D:\\FPTUni\\SP24\\ADY201m\\Lab05\\ADY201m_Lab05_SE183256\\submission.csv'\n",
    "# Import the dataset\n",
    "train_data = pd.read_csv(os.path.join(folder_path, 'train.csv'))\n",
    "test_data = pd.read_csv(os.path.join(folder_path, 'test.csv'))"
   ]
  },
  {
   "cell_type": "code",
   "execution_count": 49,
   "metadata": {},
   "outputs": [],
   "source": [
    "# Save ID of test data\n",
    "test_id = test_data['Id']"
   ]
  },
  {
   "cell_type": "code",
   "execution_count": 50,
   "metadata": {},
   "outputs": [],
   "source": [
    "# Drop unnecessary columns\n",
    "train_data = train_data.drop('Id', axis=1)"
   ]
  },
  {
   "cell_type": "markdown",
   "metadata": {},
   "source": [
    "House Price Distribution"
   ]
  },
  {
   "cell_type": "code",
   "execution_count": 51,
   "metadata": {},
   "outputs": [],
   "source": [
    "# Setup threshold for missing values\n",
    "\n",
    "# === IMPORTANT ===\n",
    "\n",
    "\n",
    "# Here we will put the variable to choose the threshold\n",
    "threshold = 0.5\n",
    "\n",
    "\n",
    "# === IMPORTANT ==="
   ]
  },
  {
   "cell_type": "markdown",
   "metadata": {},
   "source": [
    "Numerical data distribution"
   ]
  },
  {
   "cell_type": "code",
   "execution_count": 52,
   "metadata": {},
   "outputs": [],
   "source": [
    "# Because MSSubClass is int64 but it is a categorical variable, so we need to convert it to string\n",
    "train_data['MSSubClass'] = train_data['MSSubClass'].astype(str)"
   ]
  },
  {
   "cell_type": "code",
   "execution_count": 53,
   "metadata": {},
   "outputs": [],
   "source": [
    "# Get the categorical columns\n",
    "categorical_cols = train_data.select_dtypes(include=['object']).columns.tolist()\n",
    "# Delete all categorical columns\n",
    "train_data = train_data.drop(categorical_cols, axis=1)"
   ]
  },
  {
   "cell_type": "code",
   "execution_count": 54,
   "metadata": {},
   "outputs": [],
   "source": [
    "# Compute the correlation matrix with SalePrice\n",
    "corr_matrix = train_data.corr()\n",
    "corr_matrix['SalePrice'].sort_values(ascending=False)\n",
    "# ABS of correlation coefficient\n",
    "# Get the features that have the correlation coefficient with SalePrice greater than the threshold\n",
    "selected_features = corr_matrix['SalePrice'][corr_matrix['SalePrice'].abs() > threshold].index.tolist()\n",
    "# Display the selected features"
   ]
  },
  {
   "cell_type": "code",
   "execution_count": 55,
   "metadata": {},
   "outputs": [],
   "source": [
    "# Create the scaler\n",
    "scaler = StandardScaler()\n",
    "scaler2 = StandardScaler()\n",
    "# Fit the scaler to the train data\n",
    "scaler.fit(train_data[selected_features])\n",
    "# Transform the train data\n",
    "train_data_scaled = scaler.transform(train_data[selected_features])"
   ]
  },
  {
   "cell_type": "code",
   "execution_count": 56,
   "metadata": {},
   "outputs": [],
   "source": [
    "# Convert test data to same format with train data to predict, ( test data doest not have SalePrice column)\n",
    "# remove saleprice column from selected_features and make new selected_features2\n",
    "selected_features2 = selected_features.copy()\n",
    "selected_features2.remove('SalePrice')\n",
    "# if Id have in test data, we need to remove it, if not, we don't need to remove it\n",
    "if 'Id' in test_data.columns:\n",
    "    test_data = test_data.drop('Id', axis=1)\n",
    "scaler2.fit(test_data[selected_features2])\n",
    "test_data_scaled = scaler2.transform(test_data[selected_features2])"
   ]
  },
  {
   "cell_type": "code",
   "execution_count": 57,
   "metadata": {},
   "outputs": [],
   "source": [
    "# Prepare the data\n",
    "y_train = train_data_scaled[:, -1]\n",
    "x_train = train_data_scaled[:, :-1]\n",
    "\n",
    "# Split the train data into train and test data\n",
    "x_train, x_test, y_train, y_test = train_test_split(x_train, y_train, test_size=0.2, random_state=42)"
   ]
  },
  {
   "cell_type": "code",
   "execution_count": 58,
   "metadata": {},
   "outputs": [
    {
     "name": "stdout",
     "output_type": "stream",
     "text": [
      "Epoch 1/100\n"
     ]
    },
    {
     "name": "stdout",
     "output_type": "stream",
     "text": [
      "37/37 [==============================] - 1s 6ms/step - loss: 0.4419 - mae: 0.4379 - val_loss: 0.2483 - val_mae: 0.2950\n",
      "Epoch 2/100\n",
      "37/37 [==============================] - 0s 2ms/step - loss: 0.2123 - mae: 0.2772 - val_loss: 0.2133 - val_mae: 0.2737\n",
      "Epoch 3/100\n",
      "37/37 [==============================] - 0s 2ms/step - loss: 0.1872 - mae: 0.2697 - val_loss: 0.2067 - val_mae: 0.2646\n",
      "Epoch 4/100\n",
      "37/37 [==============================] - 0s 2ms/step - loss: 0.1655 - mae: 0.2530 - val_loss: 0.1775 - val_mae: 0.2509\n",
      "Epoch 5/100\n",
      "37/37 [==============================] - 0s 3ms/step - loss: 0.1612 - mae: 0.2559 - val_loss: 0.1617 - val_mae: 0.2501\n",
      "Epoch 6/100\n",
      "37/37 [==============================] - 0s 2ms/step - loss: 0.1575 - mae: 0.2419 - val_loss: 0.1517 - val_mae: 0.2421\n",
      "Epoch 7/100\n",
      "37/37 [==============================] - 0s 2ms/step - loss: 0.1429 - mae: 0.2356 - val_loss: 0.1581 - val_mae: 0.2422\n",
      "Epoch 8/100\n",
      "37/37 [==============================] - 0s 2ms/step - loss: 0.1407 - mae: 0.2369 - val_loss: 0.1511 - val_mae: 0.2436\n",
      "Epoch 9/100\n",
      "37/37 [==============================] - 0s 3ms/step - loss: 0.1330 - mae: 0.2247 - val_loss: 0.1657 - val_mae: 0.2494\n",
      "Epoch 10/100\n",
      "37/37 [==============================] - 0s 2ms/step - loss: 0.1275 - mae: 0.2218 - val_loss: 0.1512 - val_mae: 0.2384\n",
      "Epoch 11/100\n",
      "37/37 [==============================] - 0s 2ms/step - loss: 0.1198 - mae: 0.2194 - val_loss: 0.1506 - val_mae: 0.2554\n",
      "Epoch 12/100\n",
      "37/37 [==============================] - 0s 2ms/step - loss: 0.1250 - mae: 0.2203 - val_loss: 0.1556 - val_mae: 0.2382\n",
      "Epoch 13/100\n",
      "37/37 [==============================] - 0s 2ms/step - loss: 0.1162 - mae: 0.2131 - val_loss: 0.1776 - val_mae: 0.2419\n",
      "Epoch 14/100\n",
      "37/37 [==============================] - 0s 2ms/step - loss: 0.1106 - mae: 0.2089 - val_loss: 0.1812 - val_mae: 0.2405\n",
      "Epoch 15/100\n",
      "37/37 [==============================] - 0s 2ms/step - loss: 0.1147 - mae: 0.2113 - val_loss: 0.1428 - val_mae: 0.2508\n",
      "Epoch 16/100\n",
      "37/37 [==============================] - 0s 2ms/step - loss: 0.1161 - mae: 0.2217 - val_loss: 0.1746 - val_mae: 0.2541\n",
      "Epoch 17/100\n",
      "37/37 [==============================] - 0s 2ms/step - loss: 0.1031 - mae: 0.2054 - val_loss: 0.1741 - val_mae: 0.2454\n",
      "Epoch 18/100\n",
      "37/37 [==============================] - 0s 2ms/step - loss: 0.1115 - mae: 0.2124 - val_loss: 0.1573 - val_mae: 0.2400\n",
      "Epoch 19/100\n",
      "37/37 [==============================] - 0s 2ms/step - loss: 0.0968 - mae: 0.2026 - val_loss: 0.1449 - val_mae: 0.2416\n",
      "Epoch 20/100\n",
      "37/37 [==============================] - 0s 2ms/step - loss: 0.0953 - mae: 0.1988 - val_loss: 0.1589 - val_mae: 0.2486\n",
      "Epoch 21/100\n",
      "37/37 [==============================] - 0s 2ms/step - loss: 0.0942 - mae: 0.2023 - val_loss: 0.1547 - val_mae: 0.2472\n",
      "Epoch 22/100\n",
      "37/37 [==============================] - 0s 2ms/step - loss: 0.0889 - mae: 0.1929 - val_loss: 0.1767 - val_mae: 0.2492\n",
      "Epoch 23/100\n",
      "37/37 [==============================] - 0s 2ms/step - loss: 0.0896 - mae: 0.1955 - val_loss: 0.1491 - val_mae: 0.2417\n",
      "Epoch 24/100\n",
      "37/37 [==============================] - 0s 2ms/step - loss: 0.0875 - mae: 0.1923 - val_loss: 0.1745 - val_mae: 0.2597\n",
      "Epoch 25/100\n",
      "37/37 [==============================] - 0s 2ms/step - loss: 0.0914 - mae: 0.1957 - val_loss: 0.1889 - val_mae: 0.2614\n",
      "Epoch 26/100\n",
      "37/37 [==============================] - 0s 2ms/step - loss: 0.0895 - mae: 0.1947 - val_loss: 0.1731 - val_mae: 0.2488\n",
      "Epoch 27/100\n",
      "37/37 [==============================] - 0s 2ms/step - loss: 0.0840 - mae: 0.1891 - val_loss: 0.1439 - val_mae: 0.2438\n",
      "Epoch 28/100\n",
      "37/37 [==============================] - 0s 2ms/step - loss: 0.0748 - mae: 0.1810 - val_loss: 0.1768 - val_mae: 0.2638\n",
      "Epoch 29/100\n",
      "37/37 [==============================] - 0s 2ms/step - loss: 0.0779 - mae: 0.1869 - val_loss: 0.1597 - val_mae: 0.2540\n",
      "Epoch 30/100\n",
      "37/37 [==============================] - 0s 2ms/step - loss: 0.0773 - mae: 0.1848 - val_loss: 0.1698 - val_mae: 0.2488\n",
      "Epoch 31/100\n",
      "37/37 [==============================] - 0s 2ms/step - loss: 0.0742 - mae: 0.1781 - val_loss: 0.1548 - val_mae: 0.2538\n",
      "Epoch 32/100\n",
      "37/37 [==============================] - 0s 2ms/step - loss: 0.0748 - mae: 0.1807 - val_loss: 0.1938 - val_mae: 0.2660\n",
      "Epoch 33/100\n",
      "37/37 [==============================] - 0s 2ms/step - loss: 0.0778 - mae: 0.1833 - val_loss: 0.1559 - val_mae: 0.2611\n",
      "Epoch 34/100\n",
      "37/37 [==============================] - 0s 2ms/step - loss: 0.0714 - mae: 0.1796 - val_loss: 0.1509 - val_mae: 0.2579\n",
      "Epoch 35/100\n",
      "37/37 [==============================] - 0s 3ms/step - loss: 0.0648 - mae: 0.1732 - val_loss: 0.1734 - val_mae: 0.2576\n",
      "Epoch 36/100\n",
      "37/37 [==============================] - 0s 2ms/step - loss: 0.0651 - mae: 0.1694 - val_loss: 0.1746 - val_mae: 0.2566\n",
      "Epoch 37/100\n",
      "37/37 [==============================] - 0s 2ms/step - loss: 0.0624 - mae: 0.1700 - val_loss: 0.1584 - val_mae: 0.2533\n",
      "Epoch 38/100\n",
      "37/37 [==============================] - 0s 2ms/step - loss: 0.0603 - mae: 0.1661 - val_loss: 0.1533 - val_mae: 0.2522\n",
      "Epoch 39/100\n",
      "37/37 [==============================] - 0s 2ms/step - loss: 0.0609 - mae: 0.1689 - val_loss: 0.1671 - val_mae: 0.2555\n",
      "Epoch 40/100\n",
      "37/37 [==============================] - 0s 2ms/step - loss: 0.0582 - mae: 0.1654 - val_loss: 0.1703 - val_mae: 0.2591\n",
      "Epoch 41/100\n",
      "37/37 [==============================] - 0s 2ms/step - loss: 0.0576 - mae: 0.1665 - val_loss: 0.1594 - val_mae: 0.2639\n",
      "Epoch 42/100\n",
      "37/37 [==============================] - 0s 2ms/step - loss: 0.0571 - mae: 0.1626 - val_loss: 0.1636 - val_mae: 0.2574\n",
      "Epoch 43/100\n",
      "37/37 [==============================] - 0s 2ms/step - loss: 0.0582 - mae: 0.1614 - val_loss: 0.1643 - val_mae: 0.2619\n",
      "Epoch 44/100\n",
      "37/37 [==============================] - 0s 2ms/step - loss: 0.0567 - mae: 0.1621 - val_loss: 0.1702 - val_mae: 0.2596\n",
      "Epoch 45/100\n",
      "37/37 [==============================] - 0s 2ms/step - loss: 0.0552 - mae: 0.1606 - val_loss: 0.1670 - val_mae: 0.2595\n",
      "Epoch 46/100\n",
      "37/37 [==============================] - 0s 2ms/step - loss: 0.0528 - mae: 0.1572 - val_loss: 0.1712 - val_mae: 0.2598\n",
      "Epoch 47/100\n",
      "37/37 [==============================] - 0s 2ms/step - loss: 0.0530 - mae: 0.1539 - val_loss: 0.1729 - val_mae: 0.2636\n",
      "Epoch 48/100\n",
      "37/37 [==============================] - 0s 2ms/step - loss: 0.0548 - mae: 0.1601 - val_loss: 0.1756 - val_mae: 0.2621\n",
      "Epoch 49/100\n",
      "37/37 [==============================] - 0s 2ms/step - loss: 0.0536 - mae: 0.1544 - val_loss: 0.2059 - val_mae: 0.2767\n",
      "Epoch 50/100\n",
      "37/37 [==============================] - 0s 2ms/step - loss: 0.0598 - mae: 0.1667 - val_loss: 0.1851 - val_mae: 0.2699\n",
      "Epoch 51/100\n",
      "37/37 [==============================] - 0s 2ms/step - loss: 0.0568 - mae: 0.1613 - val_loss: 0.1894 - val_mae: 0.2725\n",
      "Epoch 52/100\n",
      "37/37 [==============================] - 0s 2ms/step - loss: 0.0574 - mae: 0.1619 - val_loss: 0.1649 - val_mae: 0.2617\n",
      "Epoch 53/100\n",
      "37/37 [==============================] - 0s 2ms/step - loss: 0.0569 - mae: 0.1622 - val_loss: 0.1883 - val_mae: 0.2796\n",
      "Epoch 54/100\n",
      "37/37 [==============================] - 0s 2ms/step - loss: 0.0557 - mae: 0.1590 - val_loss: 0.1773 - val_mae: 0.2770\n",
      "Epoch 55/100\n",
      "37/37 [==============================] - 0s 2ms/step - loss: 0.0499 - mae: 0.1527 - val_loss: 0.1724 - val_mae: 0.2635\n",
      "Epoch 56/100\n",
      "37/37 [==============================] - 0s 2ms/step - loss: 0.0486 - mae: 0.1462 - val_loss: 0.1781 - val_mae: 0.2673\n",
      "Epoch 57/100\n",
      "37/37 [==============================] - 0s 2ms/step - loss: 0.0479 - mae: 0.1483 - val_loss: 0.1965 - val_mae: 0.2760\n",
      "Epoch 58/100\n",
      "37/37 [==============================] - 0s 2ms/step - loss: 0.0483 - mae: 0.1495 - val_loss: 0.1760 - val_mae: 0.2680\n",
      "Epoch 59/100\n",
      "37/37 [==============================] - 0s 3ms/step - loss: 0.0504 - mae: 0.1506 - val_loss: 0.1693 - val_mae: 0.2644\n",
      "Epoch 60/100\n",
      "37/37 [==============================] - 0s 2ms/step - loss: 0.0464 - mae: 0.1445 - val_loss: 0.1887 - val_mae: 0.2673\n",
      "Epoch 61/100\n",
      "37/37 [==============================] - 0s 2ms/step - loss: 0.0465 - mae: 0.1461 - val_loss: 0.1786 - val_mae: 0.2673\n",
      "Epoch 62/100\n",
      "37/37 [==============================] - 0s 2ms/step - loss: 0.0437 - mae: 0.1412 - val_loss: 0.1924 - val_mae: 0.2722\n",
      "Epoch 63/100\n",
      "37/37 [==============================] - 0s 2ms/step - loss: 0.0449 - mae: 0.1431 - val_loss: 0.1941 - val_mae: 0.2730\n",
      "Epoch 64/100\n",
      "37/37 [==============================] - 0s 2ms/step - loss: 0.0440 - mae: 0.1416 - val_loss: 0.1953 - val_mae: 0.2743\n",
      "Epoch 65/100\n",
      "37/37 [==============================] - 0s 2ms/step - loss: 0.0456 - mae: 0.1438 - val_loss: 0.1806 - val_mae: 0.2746\n",
      "Epoch 66/100\n",
      "37/37 [==============================] - 0s 2ms/step - loss: 0.0460 - mae: 0.1477 - val_loss: 0.1947 - val_mae: 0.2782\n",
      "Epoch 67/100\n",
      "37/37 [==============================] - 0s 2ms/step - loss: 0.0428 - mae: 0.1391 - val_loss: 0.1799 - val_mae: 0.2691\n",
      "Epoch 68/100\n",
      "37/37 [==============================] - 0s 2ms/step - loss: 0.0402 - mae: 0.1349 - val_loss: 0.1923 - val_mae: 0.2721\n",
      "Epoch 69/100\n",
      "37/37 [==============================] - 0s 2ms/step - loss: 0.0408 - mae: 0.1328 - val_loss: 0.1950 - val_mae: 0.2735\n",
      "Epoch 70/100\n",
      "37/37 [==============================] - 0s 2ms/step - loss: 0.0400 - mae: 0.1369 - val_loss: 0.1959 - val_mae: 0.2724\n",
      "Epoch 71/100\n",
      "37/37 [==============================] - 0s 2ms/step - loss: 0.0386 - mae: 0.1300 - val_loss: 0.1884 - val_mae: 0.2771\n",
      "Epoch 72/100\n",
      "37/37 [==============================] - 0s 2ms/step - loss: 0.0408 - mae: 0.1346 - val_loss: 0.1891 - val_mae: 0.2726\n",
      "Epoch 73/100\n",
      "37/37 [==============================] - 0s 2ms/step - loss: 0.0383 - mae: 0.1304 - val_loss: 0.2032 - val_mae: 0.2819\n",
      "Epoch 74/100\n",
      "37/37 [==============================] - 0s 2ms/step - loss: 0.0392 - mae: 0.1325 - val_loss: 0.1969 - val_mae: 0.2802\n",
      "Epoch 75/100\n",
      "37/37 [==============================] - 0s 2ms/step - loss: 0.0415 - mae: 0.1367 - val_loss: 0.1964 - val_mae: 0.2813\n",
      "Epoch 76/100\n",
      "37/37 [==============================] - 0s 2ms/step - loss: 0.0399 - mae: 0.1320 - val_loss: 0.2018 - val_mae: 0.2864\n",
      "Epoch 77/100\n",
      "37/37 [==============================] - 0s 2ms/step - loss: 0.0413 - mae: 0.1373 - val_loss: 0.2002 - val_mae: 0.2753\n",
      "Epoch 78/100\n",
      "37/37 [==============================] - 0s 2ms/step - loss: 0.0382 - mae: 0.1303 - val_loss: 0.2016 - val_mae: 0.2873\n",
      "Epoch 79/100\n",
      "37/37 [==============================] - 0s 2ms/step - loss: 0.0404 - mae: 0.1337 - val_loss: 0.2061 - val_mae: 0.2774\n",
      "Epoch 80/100\n",
      "37/37 [==============================] - 0s 2ms/step - loss: 0.0396 - mae: 0.1320 - val_loss: 0.1898 - val_mae: 0.2761\n",
      "Epoch 81/100\n",
      "37/37 [==============================] - 0s 2ms/step - loss: 0.0407 - mae: 0.1344 - val_loss: 0.1946 - val_mae: 0.2753\n",
      "Epoch 82/100\n",
      "37/37 [==============================] - 0s 2ms/step - loss: 0.0390 - mae: 0.1343 - val_loss: 0.2058 - val_mae: 0.2823\n",
      "Epoch 83/100\n",
      "37/37 [==============================] - 0s 2ms/step - loss: 0.0386 - mae: 0.1307 - val_loss: 0.1867 - val_mae: 0.2720\n",
      "Epoch 84/100\n",
      "37/37 [==============================] - 0s 2ms/step - loss: 0.0393 - mae: 0.1291 - val_loss: 0.2066 - val_mae: 0.2849\n",
      "Epoch 85/100\n",
      "37/37 [==============================] - 0s 2ms/step - loss: 0.0365 - mae: 0.1284 - val_loss: 0.2047 - val_mae: 0.2847\n",
      "Epoch 86/100\n",
      "37/37 [==============================] - 0s 2ms/step - loss: 0.0427 - mae: 0.1387 - val_loss: 0.2043 - val_mae: 0.2835\n",
      "Epoch 87/100\n",
      "37/37 [==============================] - 0s 2ms/step - loss: 0.0382 - mae: 0.1310 - val_loss: 0.1968 - val_mae: 0.2833\n",
      "Epoch 88/100\n",
      "37/37 [==============================] - 0s 2ms/step - loss: 0.0376 - mae: 0.1266 - val_loss: 0.2052 - val_mae: 0.2870\n",
      "Epoch 89/100\n",
      "37/37 [==============================] - 0s 2ms/step - loss: 0.0440 - mae: 0.1413 - val_loss: 0.2145 - val_mae: 0.2911\n",
      "Epoch 90/100\n",
      "37/37 [==============================] - 0s 2ms/step - loss: 0.0342 - mae: 0.1227 - val_loss: 0.2066 - val_mae: 0.2834\n",
      "Epoch 91/100\n",
      "37/37 [==============================] - 0s 2ms/step - loss: 0.0349 - mae: 0.1223 - val_loss: 0.2145 - val_mae: 0.2917\n",
      "Epoch 92/100\n",
      "37/37 [==============================] - 0s 2ms/step - loss: 0.0364 - mae: 0.1282 - val_loss: 0.2098 - val_mae: 0.2855\n",
      "Epoch 93/100\n",
      "37/37 [==============================] - 0s 2ms/step - loss: 0.0353 - mae: 0.1248 - val_loss: 0.2057 - val_mae: 0.2828\n",
      "Epoch 94/100\n",
      "37/37 [==============================] - 0s 2ms/step - loss: 0.0340 - mae: 0.1189 - val_loss: 0.2128 - val_mae: 0.2890\n",
      "Epoch 95/100\n",
      "37/37 [==============================] - 0s 2ms/step - loss: 0.0328 - mae: 0.1195 - val_loss: 0.2082 - val_mae: 0.2838\n",
      "Epoch 96/100\n",
      "37/37 [==============================] - 0s 2ms/step - loss: 0.0322 - mae: 0.1171 - val_loss: 0.2111 - val_mae: 0.2837\n",
      "Epoch 97/100\n",
      "37/37 [==============================] - 0s 2ms/step - loss: 0.0342 - mae: 0.1230 - val_loss: 0.2226 - val_mae: 0.2896\n",
      "Epoch 98/100\n",
      "37/37 [==============================] - 0s 2ms/step - loss: 0.0344 - mae: 0.1234 - val_loss: 0.2160 - val_mae: 0.2845\n",
      "Epoch 99/100\n",
      "37/37 [==============================] - 0s 2ms/step - loss: 0.0346 - mae: 0.1258 - val_loss: 0.2098 - val_mae: 0.2860\n",
      "Epoch 100/100\n",
      "37/37 [==============================] - 0s 2ms/step - loss: 0.0380 - mae: 0.1331 - val_loss: 0.2185 - val_mae: 0.2886\n"
     ]
    },
    {
     "data": {
      "text/plain": [
       "<keras.src.callbacks.History at 0x272f02c9d50>"
      ]
     },
     "execution_count": 58,
     "metadata": {},
     "output_type": "execute_result"
    }
   ],
   "source": [
    "# Create the model\n",
    "model01 = models.Sequential([\n",
    "    layers.Dense(64, activation='relu', input_shape=(len(selected_features) - 1,)),\n",
    "    layers.Dense(64, activation='relu'),\n",
    "    layers.Dense(32, activation='relu'),\n",
    "    layers.Dense(16, activation='relu'), \n",
    "    layers.Dense(1, activation='linear')\n",
    "])\n",
    "\n",
    "# Compile the model\n",
    "model01.compile(optimizer='adam', loss='mse', metrics=['mae'])\n",
    "# Train the model\n",
    "model01.fit(x_train, y_train, epochs=100, batch_size=32, validation_data=(x_test, y_test))"
   ]
  },
  {
   "cell_type": "code",
   "execution_count": 62,
   "metadata": {},
   "outputs": [
    {
     "name": "stdout",
     "output_type": "stream",
     "text": [
      "INFO:tensorflow:Assets written to: model01.house_price_prediction\\assets\n"
     ]
    },
    {
     "name": "stderr",
     "output_type": "stream",
     "text": [
      "INFO:tensorflow:Assets written to: model01.house_price_prediction\\assets\n"
     ]
    }
   ],
   "source": [
    "# Save model to file\n",
    "# model01.save('model01.house_price_prediction')"
   ]
  },
  {
   "cell_type": "code",
   "execution_count": 59,
   "metadata": {},
   "outputs": [
    {
     "name": "stdout",
     "output_type": "stream",
     "text": [
      "46/46 [==============================] - 0s 895us/step\n"
     ]
    }
   ],
   "source": [
    "# Predict using the trained model\n",
    "result_scaled = model01.predict(test_data_scaled)\n",
    "# Combine scaled test data with scaled result\n",
    "combined_data_scaled = np.concatenate((test_data_scaled, result_scaled), axis=1)\n",
    "# Unscale the combined data to get the final result\n",
    "result = scaler.inverse_transform(combined_data_scaled)[:, -1]"
   ]
  },
  {
   "cell_type": "code",
   "execution_count": 60,
   "metadata": {},
   "outputs": [],
   "source": [
    "# Create the submission file\n",
    "submission = pd.DataFrame({'Id': test_id, 'SalePrice': result})\n",
    "# Save the submission file\n",
    "submission.to_csv(output_path, index=False)"
   ]
  },
  {
   "cell_type": "code",
   "execution_count": 61,
   "metadata": {},
   "outputs": [
    {
     "name": "stdout",
     "output_type": "stream",
     "text": [
      "37/37 [==============================] - 0s 911us/step\n",
      "Predicted: 153446.95201769355, Actual: 145000.0\n",
      "Predicted: 179618.59856680635, Actual: 178000.0\n",
      "Predicted: 77951.23501775354, Actual: 85000.0\n",
      "Predicted: 175375.2852127387, Actual: 175000.0\n",
      "Predicted: 123206.70398064565, Actual: 127000.0\n",
      "Predicted: 131279.49557954248, Actual: 149900.0\n",
      "Predicted: 173067.68402598918, Actual: 174000.0\n",
      "Predicted: 128484.20512534727, Actual: 125500.0\n",
      "Predicted: 182406.62395493352, Actual: 175500.0\n",
      "Predicted: 246082.5139460262, Actual: 225000.0\n"
     ]
    }
   ],
   "source": [
    "# Predict using the trained model\n",
    "result_scaled = model01.predict(x_train)\n",
    "# Unscale the combined data to get the final result\n",
    "result = scaler.inverse_transform(np.concatenate((x_train, result_scaled), axis=1))[:, -1]\n",
    "y_train_unscaled = scaler.inverse_transform(np.concatenate((x_train, y_train.reshape(-1, 1)), axis=1))[:, -1]\n",
    "# Display random 100 results\n",
    "for i in range(10):\n",
    "    print(f'Predicted: {result[i]}, Actual: {y_train_unscaled[i]}')"
   ]
  }
 ],
 "metadata": {
  "kernelspec": {
   "display_name": "Python 3",
   "language": "python",
   "name": "python3"
  },
  "language_info": {
   "codemirror_mode": {
    "name": "ipython",
    "version": 3
   },
   "file_extension": ".py",
   "mimetype": "text/x-python",
   "name": "python",
   "nbconvert_exporter": "python",
   "pygments_lexer": "ipython3",
   "version": "3.11.5"
  }
 },
 "nbformat": 4,
 "nbformat_minor": 2
}
