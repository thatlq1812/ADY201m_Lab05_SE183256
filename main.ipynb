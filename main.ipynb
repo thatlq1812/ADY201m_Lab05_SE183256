{
 "cells": [
  {
   "cell_type": "markdown",
   "metadata": {},
   "source": [
    "Import libraries"
   ]
  },
  {
   "cell_type": "code",
   "execution_count": 19,
   "metadata": {},
   "outputs": [],
   "source": [
    "# Import the necessary libraries\n",
    "import numpy as np\n",
    "import pandas as pd\n",
    "import tensorflow as tf\n",
    "import os\n",
    "from tensorflow.keras import layers, models, optimizers\n",
    "from sklearn.model_selection import train_test_split\n",
    "from sklearn.preprocessing import StandardScaler\n",
    "from sklearn.preprocessing import LabelEncoder"
   ]
  },
  {
   "cell_type": "markdown",
   "metadata": {},
   "source": [
    "Load the dataset"
   ]
  },
  {
   "cell_type": "code",
   "execution_count": 20,
   "metadata": {},
   "outputs": [],
   "source": [
    "# Folder path \n",
    "folder_path = 'D:\\FPTUni\\SP24\\ADY201m\\Lab05\\ADY201m_Lab05_SE183256'\n",
    "# Import the dataset\n",
    "train_data = pd.read_csv(os.path.join(folder_path, 'train.csv'))\n",
    "test_data = pd.read_csv(os.path.join(folder_path, 'test.csv'))\n",
    "output_path = os.path.join(folder_path, 'submission.csv')"
   ]
  },
  {
   "cell_type": "code",
   "execution_count": 21,
   "metadata": {},
   "outputs": [],
   "source": [
    "# Save ID of test data\n",
    "test_id = test_data['Id']"
   ]
  },
  {
   "cell_type": "code",
   "execution_count": 22,
   "metadata": {},
   "outputs": [],
   "source": [
    "# Drop unnecessary columns\n",
    "train_data = train_data.drop('Id', axis=1)"
   ]
  },
  {
   "cell_type": "markdown",
   "metadata": {},
   "source": [
    "House Price Distribution"
   ]
  },
  {
   "cell_type": "code",
   "execution_count": 23,
   "metadata": {},
   "outputs": [],
   "source": [
    "# Setup threshold for missing values\n",
    "\n",
    "# === IMPORTANT ===\n",
    "\n",
    "\n",
    "# Here we will put the variable to choose the threshold\n",
    "threshold = 0.5\n",
    "\n",
    "\n",
    "# === IMPORTANT ==="
   ]
  },
  {
   "cell_type": "markdown",
   "metadata": {},
   "source": [
    "Numerical data distribution"
   ]
  },
  {
   "cell_type": "code",
   "execution_count": 24,
   "metadata": {},
   "outputs": [],
   "source": [
    "# Because MSSubClass is int64 but it is a categorical variable, so we need to convert it to string\n",
    "train_data['MSSubClass'] = train_data['MSSubClass'].astype(str)"
   ]
  },
  {
   "cell_type": "code",
   "execution_count": 25,
   "metadata": {},
   "outputs": [],
   "source": [
    "# Get the categorical columns\n",
    "categorical_cols = train_data.select_dtypes(include=['object']).columns.tolist()\n",
    "# Delete all categorical columns\n",
    "train_data = train_data.drop(categorical_cols, axis=1)"
   ]
  },
  {
   "cell_type": "code",
   "execution_count": 26,
   "metadata": {},
   "outputs": [],
   "source": [
    "# Compute the correlation matrix with SalePrice\n",
    "corr_matrix = train_data.corr()\n",
    "corr_matrix['SalePrice'].sort_values(ascending=False)\n",
    "# ABS of correlation coefficient\n",
    "# Get the features that have the correlation coefficient with SalePrice greater than the threshold\n",
    "selected_features = corr_matrix['SalePrice'][corr_matrix['SalePrice'].abs() > threshold].index.tolist()\n",
    "# Display the selected features"
   ]
  },
  {
   "cell_type": "code",
   "execution_count": 27,
   "metadata": {},
   "outputs": [],
   "source": [
    "# Create the scaler\n",
    "scaler = StandardScaler()\n",
    "scaler2 = StandardScaler()\n",
    "# Fit the scaler to the train data\n",
    "scaler.fit(train_data[selected_features])\n",
    "# Transform the train data\n",
    "train_data_scaled = scaler.transform(train_data[selected_features])"
   ]
  },
  {
   "cell_type": "code",
   "execution_count": 28,
   "metadata": {},
   "outputs": [],
   "source": [
    "# Convert test data to same format with train data to predict, ( test data doest not have SalePrice column)\n",
    "# remove saleprice column from selected_features and make new selected_features2\n",
    "selected_features2 = selected_features.copy()\n",
    "selected_features2.remove('SalePrice')\n",
    "# if Id have in test data, we need to remove it, if not, we don't need to remove it\n",
    "if 'Id' in test_data.columns:\n",
    "    test_data = test_data.drop('Id', axis=1)\n",
    "scaler2.fit(test_data[selected_features2])\n",
    "test_data_scaled = scaler2.transform(test_data[selected_features2])"
   ]
  },
  {
   "cell_type": "code",
   "execution_count": 29,
   "metadata": {},
   "outputs": [],
   "source": [
    "# Prepare the data\n",
    "y_train = train_data_scaled[:, -1]\n",
    "x_train = train_data_scaled[:, :-1]\n",
    "\n",
    "# Split the train data into train and test data\n",
    "x_train, x_test, y_train, y_test = train_test_split(x_train, y_train, test_size=0.2, random_state=42)"
   ]
  },
  {
   "cell_type": "code",
   "execution_count": 30,
   "metadata": {},
   "outputs": [
    {
     "name": "stdout",
     "output_type": "stream",
     "text": [
      "Epoch 1/100\n"
     ]
    },
    {
     "name": "stdout",
     "output_type": "stream",
     "text": [
      "37/37 [==============================] - 1s 5ms/step - loss: 0.3836 - mae: 0.4357 - val_loss: 0.2018 - val_mae: 0.2775\n",
      "Epoch 2/100\n",
      "37/37 [==============================] - 0s 2ms/step - loss: 0.1972 - mae: 0.2715 - val_loss: 0.1811 - val_mae: 0.2561\n",
      "Epoch 3/100\n",
      "37/37 [==============================] - 0s 2ms/step - loss: 0.1758 - mae: 0.2620 - val_loss: 0.1682 - val_mae: 0.2621\n",
      "Epoch 4/100\n",
      "37/37 [==============================] - 0s 2ms/step - loss: 0.1703 - mae: 0.2549 - val_loss: 0.1904 - val_mae: 0.2525\n",
      "Epoch 5/100\n",
      "37/37 [==============================] - 0s 2ms/step - loss: 0.1684 - mae: 0.2497 - val_loss: 0.2599 - val_mae: 0.2851\n",
      "Epoch 6/100\n",
      "37/37 [==============================] - 0s 2ms/step - loss: 0.1583 - mae: 0.2539 - val_loss: 0.1483 - val_mae: 0.2465\n",
      "Epoch 7/100\n",
      "37/37 [==============================] - 0s 2ms/step - loss: 0.1465 - mae: 0.2383 - val_loss: 0.1631 - val_mae: 0.2426\n",
      "Epoch 8/100\n",
      "37/37 [==============================] - 0s 2ms/step - loss: 0.1338 - mae: 0.2303 - val_loss: 0.1592 - val_mae: 0.2422\n",
      "Epoch 9/100\n",
      "37/37 [==============================] - 0s 2ms/step - loss: 0.1274 - mae: 0.2255 - val_loss: 0.1604 - val_mae: 0.2410\n",
      "Epoch 10/100\n",
      "37/37 [==============================] - 0s 2ms/step - loss: 0.1239 - mae: 0.2220 - val_loss: 0.1475 - val_mae: 0.2350\n",
      "Epoch 11/100\n",
      "37/37 [==============================] - 0s 2ms/step - loss: 0.1277 - mae: 0.2223 - val_loss: 0.1465 - val_mae: 0.2463\n",
      "Epoch 12/100\n",
      "37/37 [==============================] - 0s 2ms/step - loss: 0.1197 - mae: 0.2190 - val_loss: 0.1595 - val_mae: 0.2437\n",
      "Epoch 13/100\n",
      "37/37 [==============================] - 0s 2ms/step - loss: 0.1193 - mae: 0.2188 - val_loss: 0.1608 - val_mae: 0.2383\n",
      "Epoch 14/100\n",
      "37/37 [==============================] - 0s 2ms/step - loss: 0.1170 - mae: 0.2141 - val_loss: 0.1609 - val_mae: 0.2411\n",
      "Epoch 15/100\n",
      "37/37 [==============================] - 0s 3ms/step - loss: 0.1166 - mae: 0.2117 - val_loss: 0.1493 - val_mae: 0.2393\n",
      "Epoch 16/100\n",
      "37/37 [==============================] - 0s 2ms/step - loss: 0.1140 - mae: 0.2111 - val_loss: 0.1382 - val_mae: 0.2382\n",
      "Epoch 17/100\n",
      "37/37 [==============================] - 0s 3ms/step - loss: 0.1041 - mae: 0.2054 - val_loss: 0.1467 - val_mae: 0.2348\n",
      "Epoch 18/100\n",
      "37/37 [==============================] - 0s 3ms/step - loss: 0.1096 - mae: 0.2134 - val_loss: 0.1450 - val_mae: 0.2401\n",
      "Epoch 19/100\n",
      "37/37 [==============================] - 0s 3ms/step - loss: 0.1462 - mae: 0.2259 - val_loss: 0.1756 - val_mae: 0.2575\n",
      "Epoch 20/100\n",
      "37/37 [==============================] - 0s 3ms/step - loss: 0.1196 - mae: 0.2156 - val_loss: 0.1527 - val_mae: 0.2440\n",
      "Epoch 21/100\n",
      "37/37 [==============================] - 0s 3ms/step - loss: 0.1094 - mae: 0.2139 - val_loss: 0.1727 - val_mae: 0.2501\n",
      "Epoch 22/100\n",
      "37/37 [==============================] - 0s 2ms/step - loss: 0.1024 - mae: 0.2051 - val_loss: 0.1458 - val_mae: 0.2366\n",
      "Epoch 23/100\n",
      "37/37 [==============================] - 0s 2ms/step - loss: 0.1197 - mae: 0.2168 - val_loss: 0.1435 - val_mae: 0.2452\n",
      "Epoch 24/100\n",
      "37/37 [==============================] - 0s 3ms/step - loss: 0.1110 - mae: 0.2122 - val_loss: 0.1824 - val_mae: 0.2465\n",
      "Epoch 25/100\n",
      "37/37 [==============================] - 0s 3ms/step - loss: 0.0957 - mae: 0.1945 - val_loss: 0.1462 - val_mae: 0.2392\n",
      "Epoch 26/100\n",
      "37/37 [==============================] - 0s 2ms/step - loss: 0.0860 - mae: 0.1909 - val_loss: 0.1545 - val_mae: 0.2423\n",
      "Epoch 27/100\n",
      "37/37 [==============================] - 0s 3ms/step - loss: 0.0928 - mae: 0.1944 - val_loss: 0.1785 - val_mae: 0.2497\n",
      "Epoch 28/100\n",
      "37/37 [==============================] - 0s 2ms/step - loss: 0.0964 - mae: 0.1982 - val_loss: 0.1676 - val_mae: 0.2487\n",
      "Epoch 29/100\n",
      "37/37 [==============================] - 0s 3ms/step - loss: 0.0839 - mae: 0.1905 - val_loss: 0.1547 - val_mae: 0.2524\n",
      "Epoch 30/100\n",
      "37/37 [==============================] - 0s 3ms/step - loss: 0.0973 - mae: 0.1971 - val_loss: 0.1646 - val_mae: 0.2402\n",
      "Epoch 31/100\n",
      "37/37 [==============================] - 0s 2ms/step - loss: 0.0833 - mae: 0.1876 - val_loss: 0.1347 - val_mae: 0.2370\n",
      "Epoch 32/100\n",
      "37/37 [==============================] - 0s 2ms/step - loss: 0.0861 - mae: 0.1900 - val_loss: 0.1511 - val_mae: 0.2419\n",
      "Epoch 33/100\n",
      "37/37 [==============================] - 0s 2ms/step - loss: 0.0777 - mae: 0.1834 - val_loss: 0.1411 - val_mae: 0.2431\n",
      "Epoch 34/100\n",
      "37/37 [==============================] - 0s 3ms/step - loss: 0.0832 - mae: 0.1871 - val_loss: 0.1640 - val_mae: 0.2650\n",
      "Epoch 35/100\n",
      "37/37 [==============================] - 0s 2ms/step - loss: 0.0819 - mae: 0.1968 - val_loss: 0.1370 - val_mae: 0.2398\n",
      "Epoch 36/100\n",
      "37/37 [==============================] - 0s 2ms/step - loss: 0.0778 - mae: 0.1798 - val_loss: 0.1383 - val_mae: 0.2382\n",
      "Epoch 37/100\n",
      "37/37 [==============================] - 0s 2ms/step - loss: 0.0916 - mae: 0.1908 - val_loss: 0.1503 - val_mae: 0.2581\n",
      "Epoch 38/100\n",
      "37/37 [==============================] - 0s 2ms/step - loss: 0.0752 - mae: 0.1781 - val_loss: 0.1840 - val_mae: 0.2520\n",
      "Epoch 39/100\n",
      "37/37 [==============================] - 0s 2ms/step - loss: 0.0645 - mae: 0.1706 - val_loss: 0.1454 - val_mae: 0.2437\n",
      "Epoch 40/100\n",
      "37/37 [==============================] - 0s 2ms/step - loss: 0.0707 - mae: 0.1794 - val_loss: 0.1553 - val_mae: 0.2490\n",
      "Epoch 41/100\n",
      "37/37 [==============================] - 0s 3ms/step - loss: 0.0628 - mae: 0.1711 - val_loss: 0.1448 - val_mae: 0.2418\n",
      "Epoch 42/100\n",
      "37/37 [==============================] - 0s 2ms/step - loss: 0.0624 - mae: 0.1666 - val_loss: 0.1625 - val_mae: 0.2516\n",
      "Epoch 43/100\n",
      "37/37 [==============================] - 0s 3ms/step - loss: 0.0845 - mae: 0.1800 - val_loss: 0.2171 - val_mae: 0.2649\n",
      "Epoch 44/100\n",
      "37/37 [==============================] - 0s 3ms/step - loss: 0.0712 - mae: 0.1717 - val_loss: 0.1481 - val_mae: 0.2559\n",
      "Epoch 45/100\n",
      "37/37 [==============================] - 0s 3ms/step - loss: 0.0674 - mae: 0.1699 - val_loss: 0.1742 - val_mae: 0.2562\n",
      "Epoch 46/100\n",
      "37/37 [==============================] - 0s 4ms/step - loss: 0.0626 - mae: 0.1640 - val_loss: 0.1553 - val_mae: 0.2524\n",
      "Epoch 47/100\n",
      "37/37 [==============================] - 0s 3ms/step - loss: 0.0594 - mae: 0.1643 - val_loss: 0.1872 - val_mae: 0.2648\n",
      "Epoch 48/100\n",
      "37/37 [==============================] - 0s 3ms/step - loss: 0.0554 - mae: 0.1583 - val_loss: 0.1404 - val_mae: 0.2465\n",
      "Epoch 49/100\n",
      "37/37 [==============================] - 0s 3ms/step - loss: 0.0552 - mae: 0.1598 - val_loss: 0.1630 - val_mae: 0.2627\n",
      "Epoch 50/100\n",
      "37/37 [==============================] - 0s 2ms/step - loss: 0.0532 - mae: 0.1566 - val_loss: 0.1682 - val_mae: 0.2551\n",
      "Epoch 51/100\n",
      "37/37 [==============================] - 0s 2ms/step - loss: 0.0526 - mae: 0.1540 - val_loss: 0.1598 - val_mae: 0.2546\n",
      "Epoch 52/100\n",
      "37/37 [==============================] - 0s 2ms/step - loss: 0.0516 - mae: 0.1522 - val_loss: 0.1440 - val_mae: 0.2479\n",
      "Epoch 53/100\n",
      "37/37 [==============================] - 0s 2ms/step - loss: 0.0539 - mae: 0.1543 - val_loss: 0.1658 - val_mae: 0.2611\n",
      "Epoch 54/100\n",
      "37/37 [==============================] - 0s 2ms/step - loss: 0.0480 - mae: 0.1480 - val_loss: 0.1662 - val_mae: 0.2569\n",
      "Epoch 55/100\n",
      "37/37 [==============================] - 0s 2ms/step - loss: 0.0506 - mae: 0.1515 - val_loss: 0.1676 - val_mae: 0.2621\n",
      "Epoch 56/100\n",
      "37/37 [==============================] - 0s 2ms/step - loss: 0.0528 - mae: 0.1562 - val_loss: 0.1642 - val_mae: 0.2640\n",
      "Epoch 57/100\n",
      "37/37 [==============================] - 0s 2ms/step - loss: 0.0485 - mae: 0.1498 - val_loss: 0.1680 - val_mae: 0.2675\n",
      "Epoch 58/100\n",
      "37/37 [==============================] - 0s 2ms/step - loss: 0.0449 - mae: 0.1445 - val_loss: 0.1700 - val_mae: 0.2606\n",
      "Epoch 59/100\n",
      "37/37 [==============================] - 0s 2ms/step - loss: 0.0479 - mae: 0.1469 - val_loss: 0.1515 - val_mae: 0.2559\n",
      "Epoch 60/100\n",
      "37/37 [==============================] - 0s 2ms/step - loss: 0.0455 - mae: 0.1452 - val_loss: 0.1666 - val_mae: 0.2565\n",
      "Epoch 61/100\n",
      "37/37 [==============================] - 0s 2ms/step - loss: 0.0451 - mae: 0.1439 - val_loss: 0.1622 - val_mae: 0.2596\n",
      "Epoch 62/100\n",
      "37/37 [==============================] - 0s 2ms/step - loss: 0.0443 - mae: 0.1390 - val_loss: 0.1687 - val_mae: 0.2629\n",
      "Epoch 63/100\n",
      "37/37 [==============================] - 0s 2ms/step - loss: 0.0421 - mae: 0.1376 - val_loss: 0.1638 - val_mae: 0.2643\n",
      "Epoch 64/100\n",
      "37/37 [==============================] - 0s 2ms/step - loss: 0.0437 - mae: 0.1392 - val_loss: 0.1776 - val_mae: 0.2731\n",
      "Epoch 65/100\n",
      "37/37 [==============================] - 0s 2ms/step - loss: 0.0461 - mae: 0.1440 - val_loss: 0.1684 - val_mae: 0.2593\n",
      "Epoch 66/100\n",
      "37/37 [==============================] - 0s 2ms/step - loss: 0.0442 - mae: 0.1397 - val_loss: 0.1686 - val_mae: 0.2685\n",
      "Epoch 67/100\n",
      "37/37 [==============================] - 0s 2ms/step - loss: 0.0428 - mae: 0.1384 - val_loss: 0.1842 - val_mae: 0.2760\n",
      "Epoch 68/100\n",
      "37/37 [==============================] - 0s 2ms/step - loss: 0.0467 - mae: 0.1428 - val_loss: 0.1853 - val_mae: 0.2764\n",
      "Epoch 69/100\n",
      "37/37 [==============================] - 0s 2ms/step - loss: 0.0429 - mae: 0.1363 - val_loss: 0.1698 - val_mae: 0.2683\n",
      "Epoch 70/100\n",
      "37/37 [==============================] - 0s 2ms/step - loss: 0.0407 - mae: 0.1326 - val_loss: 0.1791 - val_mae: 0.2713\n",
      "Epoch 71/100\n",
      "37/37 [==============================] - 0s 2ms/step - loss: 0.0439 - mae: 0.1393 - val_loss: 0.1813 - val_mae: 0.2728\n",
      "Epoch 72/100\n",
      "37/37 [==============================] - 0s 2ms/step - loss: 0.0423 - mae: 0.1351 - val_loss: 0.1852 - val_mae: 0.2842\n",
      "Epoch 73/100\n",
      "37/37 [==============================] - 0s 2ms/step - loss: 0.0441 - mae: 0.1413 - val_loss: 0.1632 - val_mae: 0.2740\n",
      "Epoch 74/100\n",
      "37/37 [==============================] - 0s 2ms/step - loss: 0.0390 - mae: 0.1320 - val_loss: 0.1761 - val_mae: 0.2734\n",
      "Epoch 75/100\n",
      "37/37 [==============================] - 0s 2ms/step - loss: 0.0375 - mae: 0.1278 - val_loss: 0.1772 - val_mae: 0.2742\n",
      "Epoch 76/100\n",
      "37/37 [==============================] - 0s 2ms/step - loss: 0.0392 - mae: 0.1289 - val_loss: 0.1888 - val_mae: 0.2760\n",
      "Epoch 77/100\n",
      "37/37 [==============================] - 0s 2ms/step - loss: 0.0378 - mae: 0.1276 - val_loss: 0.1779 - val_mae: 0.2737\n",
      "Epoch 78/100\n",
      "37/37 [==============================] - 0s 3ms/step - loss: 0.0380 - mae: 0.1282 - val_loss: 0.1786 - val_mae: 0.2773\n",
      "Epoch 79/100\n",
      "37/37 [==============================] - 0s 3ms/step - loss: 0.0385 - mae: 0.1288 - val_loss: 0.1818 - val_mae: 0.2796\n",
      "Epoch 80/100\n",
      "37/37 [==============================] - 0s 3ms/step - loss: 0.0373 - mae: 0.1265 - val_loss: 0.1795 - val_mae: 0.2817\n",
      "Epoch 81/100\n",
      "37/37 [==============================] - 0s 3ms/step - loss: 0.0395 - mae: 0.1290 - val_loss: 0.1774 - val_mae: 0.2761\n",
      "Epoch 82/100\n",
      "37/37 [==============================] - 0s 3ms/step - loss: 0.0375 - mae: 0.1260 - val_loss: 0.1825 - val_mae: 0.2769\n",
      "Epoch 83/100\n",
      "37/37 [==============================] - 0s 3ms/step - loss: 0.0379 - mae: 0.1292 - val_loss: 0.1958 - val_mae: 0.2834\n",
      "Epoch 84/100\n",
      "37/37 [==============================] - 0s 3ms/step - loss: 0.0385 - mae: 0.1280 - val_loss: 0.1880 - val_mae: 0.2817\n",
      "Epoch 85/100\n",
      "37/37 [==============================] - 0s 2ms/step - loss: 0.0387 - mae: 0.1279 - val_loss: 0.2021 - val_mae: 0.2924\n",
      "Epoch 86/100\n",
      "37/37 [==============================] - 0s 2ms/step - loss: 0.0363 - mae: 0.1250 - val_loss: 0.1760 - val_mae: 0.2738\n",
      "Epoch 87/100\n",
      "37/37 [==============================] - 0s 2ms/step - loss: 0.0367 - mae: 0.1252 - val_loss: 0.1836 - val_mae: 0.2753\n",
      "Epoch 88/100\n",
      "37/37 [==============================] - 0s 2ms/step - loss: 0.0382 - mae: 0.1286 - val_loss: 0.1898 - val_mae: 0.2865\n",
      "Epoch 89/100\n",
      "37/37 [==============================] - 0s 2ms/step - loss: 0.0407 - mae: 0.1324 - val_loss: 0.1827 - val_mae: 0.2838\n",
      "Epoch 90/100\n",
      "37/37 [==============================] - 0s 2ms/step - loss: 0.0355 - mae: 0.1219 - val_loss: 0.1887 - val_mae: 0.2839\n",
      "Epoch 91/100\n",
      "37/37 [==============================] - 0s 2ms/step - loss: 0.0354 - mae: 0.1220 - val_loss: 0.1858 - val_mae: 0.2879\n",
      "Epoch 92/100\n",
      "37/37 [==============================] - 0s 2ms/step - loss: 0.0365 - mae: 0.1254 - val_loss: 0.1834 - val_mae: 0.2868\n",
      "Epoch 93/100\n",
      "37/37 [==============================] - 0s 2ms/step - loss: 0.0376 - mae: 0.1286 - val_loss: 0.1806 - val_mae: 0.2856\n",
      "Epoch 94/100\n",
      "37/37 [==============================] - 0s 2ms/step - loss: 0.0349 - mae: 0.1228 - val_loss: 0.1917 - val_mae: 0.2816\n",
      "Epoch 95/100\n",
      "37/37 [==============================] - 0s 2ms/step - loss: 0.0367 - mae: 0.1249 - val_loss: 0.1802 - val_mae: 0.2777\n",
      "Epoch 96/100\n",
      "37/37 [==============================] - 0s 2ms/step - loss: 0.0379 - mae: 0.1256 - val_loss: 0.1905 - val_mae: 0.2836\n",
      "Epoch 97/100\n",
      "37/37 [==============================] - 0s 2ms/step - loss: 0.0339 - mae: 0.1205 - val_loss: 0.1875 - val_mae: 0.2869\n",
      "Epoch 98/100\n",
      "37/37 [==============================] - 0s 2ms/step - loss: 0.0335 - mae: 0.1179 - val_loss: 0.1954 - val_mae: 0.2812\n",
      "Epoch 99/100\n",
      "37/37 [==============================] - 0s 2ms/step - loss: 0.0377 - mae: 0.1225 - val_loss: 0.1781 - val_mae: 0.2912\n",
      "Epoch 100/100\n",
      "37/37 [==============================] - 0s 2ms/step - loss: 0.0391 - mae: 0.1274 - val_loss: 0.1971 - val_mae: 0.2856\n"
     ]
    },
    {
     "data": {
      "text/plain": [
       "<keras.src.callbacks.History at 0x1a90e0ce550>"
      ]
     },
     "execution_count": 30,
     "metadata": {},
     "output_type": "execute_result"
    }
   ],
   "source": [
    "# Create the model\n",
    "model01 = models.Sequential([\n",
    "    layers.Dense(64, activation='relu', input_shape=(len(selected_features) - 1,)),\n",
    "    layers.Dense(64, activation='relu'),\n",
    "    layers.Dense(32, activation='relu'),\n",
    "    layers.Dense(16, activation='relu'), \n",
    "    layers.Dense(1, activation='linear')\n",
    "])\n",
    "\n",
    "# Compile the model\n",
    "model01.compile(optimizer='adam', loss='mse', metrics=['mae'])\n",
    "# Train the model\n",
    "model01.fit(x_train, y_train, epochs=100, batch_size=32, validation_data=(x_test, y_test))"
   ]
  },
  {
   "cell_type": "code",
   "execution_count": 31,
   "metadata": {},
   "outputs": [],
   "source": [
    "# Save model to file\n",
    "# model01.save('model01.house_price_prediction')"
   ]
  },
  {
   "cell_type": "code",
   "execution_count": 32,
   "metadata": {},
   "outputs": [
    {
     "name": "stdout",
     "output_type": "stream",
     "text": [
      "46/46 [==============================] - 0s 847us/step\n"
     ]
    }
   ],
   "source": [
    "# Predict using the trained model\n",
    "result_scaled = model01.predict(test_data_scaled)\n",
    "# Combine scaled test data with scaled result\n",
    "combined_data_scaled = np.concatenate((test_data_scaled, result_scaled), axis=1)\n",
    "# Unscale the combined data to get the final result\n",
    "result = scaler.inverse_transform(combined_data_scaled)[:, -1]"
   ]
  },
  {
   "cell_type": "code",
   "execution_count": 33,
   "metadata": {},
   "outputs": [],
   "source": [
    "# Create the submission file\n",
    "submission = pd.DataFrame({'Id': test_id, 'SalePrice': result})\n",
    "# Save the submission file\n",
    "submission.to_csv(output_path, index=False)"
   ]
  },
  {
   "cell_type": "code",
   "execution_count": 34,
   "metadata": {},
   "outputs": [
    {
     "name": "stdout",
     "output_type": "stream",
     "text": [
      "37/37 [==============================] - 0s 1ms/step\n",
      "Predicted: 136833.8934590456, Actual: 145000.0\n",
      "Predicted: 179954.39197955275, Actual: 178000.0\n",
      "Predicted: 85088.87235357052, Actual: 85000.0\n",
      "Predicted: 174461.05843442984, Actual: 175000.0\n",
      "Predicted: 126077.05386564496, Actual: 127000.0\n",
      "Predicted: 131981.56183785124, Actual: 149900.0\n",
      "Predicted: 173659.86752830193, Actual: 174000.0\n",
      "Predicted: 126698.56507612474, Actual: 125500.0\n",
      "Predicted: 174695.64282329395, Actual: 175500.0\n",
      "Predicted: 260852.71602927742, Actual: 225000.0\n"
     ]
    }
   ],
   "source": [
    "# Predict using the trained model\n",
    "result_scaled = model01.predict(x_train)\n",
    "# Unscale the combined data to get the final result\n",
    "result = scaler.inverse_transform(np.concatenate((x_train, result_scaled), axis=1))[:, -1]\n",
    "y_train_unscaled = scaler.inverse_transform(np.concatenate((x_train, y_train.reshape(-1, 1)), axis=1))[:, -1]\n",
    "# Display random 100 results\n",
    "for i in range(10):\n",
    "    print(f'Predicted: {result[i]}, Actual: {y_train_unscaled[i]}')"
   ]
  }
 ],
 "metadata": {
  "kernelspec": {
   "display_name": "Python 3",
   "language": "python",
   "name": "python3"
  },
  "language_info": {
   "codemirror_mode": {
    "name": "ipython",
    "version": 3
   },
   "file_extension": ".py",
   "mimetype": "text/x-python",
   "name": "python",
   "nbconvert_exporter": "python",
   "pygments_lexer": "ipython3",
   "version": "3.11.5"
  }
 },
 "nbformat": 4,
 "nbformat_minor": 2
}
