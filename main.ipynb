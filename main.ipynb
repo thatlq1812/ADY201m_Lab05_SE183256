{
 "cells": [
  {
   "cell_type": "markdown",
   "metadata": {},
   "source": [
    "Import libraries"
   ]
  },
  {
   "cell_type": "code",
   "execution_count": null,
   "metadata": {},
   "outputs": [],
   "source": [
    "# Import the necessary libraries\n",
    "import numpy as np\n",
    "import pandas as pd\n",
    "import tensorflow as tf\n",
    "import os\n",
    "from tensorflow.keras import layers, models, optimizers\n",
    "from sklearn.model_selection import train_test_split\n",
    "from sklearn.preprocessing import StandardScaler\n",
    "from sklearn.preprocessing import LabelEncoder\n",
    "from sklearn.metrics import mean_squared_error"
   ]
  },
  {
   "cell_type": "markdown",
   "metadata": {},
   "source": [
    "Load the dataset"
   ]
  },
  {
   "cell_type": "code",
   "execution_count": null,
   "metadata": {},
   "outputs": [],
   "source": [
    "# Folder path \n",
    "folder_path = 'D:\\FPTUni\\SP24\\ADY201m\\Lab05\\ADY201m_Lab05_SE183256'\n",
    "# Import the dataset\n",
    "train_data = pd.read_csv(os.path.join(folder_path, 'train.csv'))\n",
    "test_data = pd.read_csv(os.path.join(folder_path, 'test.csv'))\n",
    "output_path = os.path.join(folder_path, 'submission.csv')"
   ]
  },
  {
   "cell_type": "code",
   "execution_count": null,
   "metadata": {},
   "outputs": [],
   "source": [
    "# Save ID of test data\n",
    "test_id = test_data['Id']"
   ]
  },
  {
   "cell_type": "code",
   "execution_count": null,
   "metadata": {},
   "outputs": [],
   "source": [
    "# Drop unnecessary columns\n",
    "train_data = train_data.drop('Id', axis=1)"
   ]
  },
  {
   "cell_type": "markdown",
   "metadata": {},
   "source": [
    "House Price Distribution"
   ]
  },
  {
   "cell_type": "code",
   "execution_count": null,
   "metadata": {},
   "outputs": [],
   "source": [
    "# Setup threshold for missing values\n",
    "\n",
    "# === IMPORTANT ===\n",
    "\n",
    "\n",
    "# Here we will put the variable to choose the threshold\n",
    "threshold = 0.5\n",
    "\n",
    "\n",
    "# === IMPORTANT ==="
   ]
  },
  {
   "cell_type": "markdown",
   "metadata": {},
   "source": [
    "Numerical data distribution"
   ]
  },
  {
   "cell_type": "code",
   "execution_count": null,
   "metadata": {},
   "outputs": [],
   "source": [
    "# Because MSSubClass is int64 but it is a categorical variable, so we need to convert it to string\n",
    "train_data['MSSubClass'] = train_data['MSSubClass'].astype(str)"
   ]
  },
  {
   "cell_type": "code",
   "execution_count": null,
   "metadata": {},
   "outputs": [],
   "source": [
    "# Get the categorical columns\n",
    "categorical_cols = train_data.select_dtypes(include=['object']).columns.tolist()\n",
    "# Delete all categorical columns\n",
    "train_data = train_data.drop(categorical_cols, axis=1)"
   ]
  },
  {
   "cell_type": "code",
   "execution_count": null,
   "metadata": {},
   "outputs": [],
   "source": [
    "# Compute the correlation matrix with SalePrice\n",
    "corr_matrix = train_data.corr()\n",
    "corr_matrix['SalePrice'].sort_values(ascending=False)\n",
    "# ABS of correlation coefficient\n",
    "# Get the features that have the correlation coefficient with SalePrice greater than the threshold\n",
    "selected_features = corr_matrix['SalePrice'][corr_matrix['SalePrice'].abs() > threshold].index.tolist()\n",
    "# Display the selected features"
   ]
  },
  {
   "cell_type": "code",
   "execution_count": null,
   "metadata": {},
   "outputs": [],
   "source": [
    "# Create the scaler\n",
    "scaler = StandardScaler()\n",
    "scaler2 = StandardScaler()\n",
    "# Fit the scaler to the train data\n",
    "scaler.fit(train_data[selected_features])\n",
    "# Transform the train data\n",
    "train_data_scaled = scaler.transform(train_data[selected_features])"
   ]
  },
  {
   "cell_type": "code",
   "execution_count": null,
   "metadata": {},
   "outputs": [],
   "source": [
    "# Convert test data to same format with train data to predict, ( test data doest not have SalePrice column)\n",
    "# remove saleprice column from selected_features and make new selected_features2\n",
    "selected_features2 = selected_features.copy()\n",
    "selected_features2.remove('SalePrice')\n",
    "# if Id have in test data, we need to remove it, if not, we don't need to remove it\n",
    "if 'Id' in test_data.columns:\n",
    "    test_data = test_data.drop('Id', axis=1)\n",
    "scaler2.fit(test_data[selected_features2])\n",
    "test_data_scaled = scaler2.transform(test_data[selected_features2])"
   ]
  },
  {
   "cell_type": "code",
   "execution_count": null,
   "metadata": {},
   "outputs": [],
   "source": [
    "# Prepare the data\n",
    "y_train = train_data_scaled[:, -1]\n",
    "x_train = train_data_scaled[:, :-1]\n",
    "\n",
    "# Split the train data into train and test data\n",
    "x_train, x_test, y_train, y_test = train_test_split(x_train, y_train, test_size=0.2, random_state=42)"
   ]
  },
  {
   "cell_type": "code",
   "execution_count": null,
   "metadata": {},
   "outputs": [],
   "source": [
    "# Create the model\n",
    "model01 = models.Sequential([\n",
    "    layers.Dense(64, activation='relu', input_shape=(len(selected_features) - 1,)),\n",
    "    layers.Dense(64, activation='relu'),\n",
    "    layers.Dense(32, activation='relu'),\n",
    "    layers.Dense(16, activation='relu'),\n",
    "    layers.Dense(1, activation='linear')\n",
    "])\n",
    "\n",
    "# Compile the model\n",
    "model01.compile(optimizer='adam', loss='mse', metrics=['mae'])\n",
    "# Train the model\n",
    "model01.fit(x_train, y_train, epochs=2000, batch_size=32, validation_data=(x_test, y_test))"
   ]
  },
  {
   "cell_type": "code",
   "execution_count": null,
   "metadata": {},
   "outputs": [],
   "source": [
    "# Save model to file\n",
    "# model01.save('model01.house_price_prediction')"
   ]
  },
  {
   "cell_type": "code",
   "execution_count": null,
   "metadata": {},
   "outputs": [],
   "source": [
    "# Predict using the trained model\n",
    "result_scaled = model01.predict(test_data_scaled)\n",
    "\n",
    "# Combine scaled test data with scaled result\n",
    "combined_data_scaled = np.concatenate((test_data_scaled, result_scaled), axis=1)\n",
    "# Unscale the combined data to get the final result\n",
    "result = scaler.inverse_transform(combined_data_scaled)[:, -1]\n",
    "\n",
    "# Kiểm tra result có cái nào trống hoặc là số âm không, nếu có thì thay nó bằng 0\n",
    "result = np.where(result < 0, 0, result)\n",
    "result = np.where(np.isnan(result), 0, result)"
   ]
  },
  {
   "cell_type": "code",
   "execution_count": null,
   "metadata": {},
   "outputs": [],
   "source": [
    "# Create the submission file\n",
    "submission = pd.DataFrame({'Id': test_id, 'SalePrice': result})\n",
    "# Save the submission file\n",
    "submission.to_csv(output_path, index=False)"
   ]
  },
  {
   "cell_type": "code",
   "execution_count": null,
   "metadata": {},
   "outputs": [],
   "source": [
    "# Predict using the trained model\n",
    "result_scaled = model01.predict(x_train)\n",
    "# Unscale the combined data to get the final result\n",
    "result = scaler.inverse_transform(np.concatenate((x_train, result_scaled), axis=1))[:, -1]\n",
    "y_train_unscaled = scaler.inverse_transform(np.concatenate((x_train, y_train.reshape(-1, 1)), axis=1))[:, -1]\n",
    "# Display random 100 results\n",
    "for i in range(10):\n",
    "    print(f'Predicted: {result[i]}, Actual: {y_train_unscaled[i]}')\n",
    "\n",
    "# Evaluate the model performance using Mean Squared Error\n",
    "mse = mean_squared_error(y_train_unscaled, result)\n",
    "\n",
    "# Print the Root Mean Squared Error\n",
    "print(\"Root Mean Squared Error:\", np.sqrt(mse))"
   ]
  }
 ],
 "metadata": {
  "kernelspec": {
   "display_name": "Python 3",
   "language": "python",
   "name": "python3"
  },
  "language_info": {
   "codemirror_mode": {
    "name": "ipython",
    "version": 3
   },
   "file_extension": ".py",
   "mimetype": "text/x-python",
   "name": "python",
   "nbconvert_exporter": "python",
   "pygments_lexer": "ipython3",
   "version": "3.11.5"
  }
 },
 "nbformat": 4,
 "nbformat_minor": 2
}
