{
 "cells": [
  {
   "cell_type": "code",
   "execution_count": 1,
   "metadata": {},
   "outputs": [
    {
     "name": "stdout",
     "output_type": "stream",
     "text": [
      "WARNING:tensorflow:From C:\\Users\\ASUS\\AppData\\Roaming\\Python\\Python311\\site-packages\\keras\\src\\losses.py:2976: The name tf.losses.sparse_softmax_cross_entropy is deprecated. Please use tf.compat.v1.losses.sparse_softmax_cross_entropy instead.\n",
      "\n"
     ]
    }
   ],
   "source": [
    "# Import the necessary libraries\n",
    "import numpy as np\n",
    "import pandas as pd\n",
    "import tensorflow as tf\n",
    "import os\n",
    "from tensorflow.keras import layers, models, optimizers\n",
    "from sklearn.model_selection import train_test_split\n",
    "from sklearn.preprocessing import StandardScaler\n",
    "from sklearn.preprocessing import LabelEncoder"
   ]
  },
  {
   "cell_type": "code",
   "execution_count": 2,
   "metadata": {},
   "outputs": [],
   "source": [
    "# Folder path \n",
    "folder_path = 'D:\\FPTUni\\SP24\\ADY201m\\Lab05\\ADY201m_Lab05_SE183256'\n",
    "# Import the dataset\n",
    "train_data = pd.read_csv(os.path.join(folder_path, 'train.csv'))\n",
    "test_data = pd.read_csv(os.path.join(folder_path, 'test.csv'))\n",
    "output_path = os.path.join(folder_path, 'submission.csv')"
   ]
  },
  {
   "cell_type": "code",
   "execution_count": 3,
   "metadata": {},
   "outputs": [],
   "source": [
    "# Save ID of test data\n",
    "test_id = test_data['Id']"
   ]
  },
  {
   "cell_type": "code",
   "execution_count": 4,
   "metadata": {},
   "outputs": [],
   "source": [
    "# Drop unnecessary columns\n",
    "train_data = train_data.drop('Id', axis=1)"
   ]
  },
  {
   "cell_type": "code",
   "execution_count": 5,
   "metadata": {},
   "outputs": [],
   "source": [
    "# Setup threshold for missing values\n",
    "\n",
    "# === IMPORTANT ===\n",
    "\n",
    "\n",
    "# Here we will put the variable to choose the threshold\n",
    "threshold = 0.5\n",
    "\n",
    "\n",
    "# === IMPORTANT ==="
   ]
  },
  {
   "cell_type": "code",
   "execution_count": 6,
   "metadata": {},
   "outputs": [],
   "source": [
    "# Because MSSubClass is int64 but it is a categorical variable, so we need to convert it to string\n",
    "train_data['MSSubClass'] = train_data['MSSubClass'].astype(str)"
   ]
  },
  {
   "cell_type": "code",
   "execution_count": 7,
   "metadata": {},
   "outputs": [],
   "source": [
    "# Get the categorical columns\n",
    "categorical_cols = train_data.select_dtypes(include=['object']).columns.tolist()\n",
    "# Delete all categorical columns\n",
    "train_data = train_data.drop(categorical_cols, axis=1)"
   ]
  },
  {
   "cell_type": "code",
   "execution_count": 8,
   "metadata": {},
   "outputs": [],
   "source": [
    "# Compute the correlation matrix with SalePrice\n",
    "corr_matrix = train_data.corr()\n",
    "corr_matrix['SalePrice'].sort_values(ascending=False)\n",
    "# ABS of correlation coefficient\n",
    "# Get the features that have the correlation coefficient with SalePrice greater than the threshold\n",
    "selected_features = corr_matrix['SalePrice'][corr_matrix['SalePrice'].abs() > threshold].index.tolist()\n",
    "# Display the selected features"
   ]
  },
  {
   "cell_type": "code",
   "execution_count": 9,
   "metadata": {},
   "outputs": [],
   "source": [
    "# Create the scaler\n",
    "scaler = StandardScaler()\n",
    "scaler2 = StandardScaler()\n",
    "# Fit the scaler to the train data\n",
    "scaler.fit(train_data[selected_features])\n",
    "# Transform the train data\n",
    "train_data_scaled = scaler.transform(train_data[selected_features])"
   ]
  },
  {
   "cell_type": "code",
   "execution_count": 10,
   "metadata": {},
   "outputs": [],
   "source": [
    "# Convert test data to same format with train data to predict, ( test data doest not have SalePrice column)\n",
    "# remove saleprice column from selected_features and make new selected_features2\n",
    "selected_features2 = selected_features.copy()\n",
    "selected_features2.remove('SalePrice')\n",
    "# if Id have in test data, we need to remove it, if not, we don't need to remove it\n",
    "if 'Id' in test_data.columns:\n",
    "    test_data = test_data.drop('Id', axis=1)\n",
    "scaler2.fit(test_data[selected_features2])\n",
    "test_data_scaled = scaler2.transform(test_data[selected_features2])"
   ]
  },
  {
   "cell_type": "code",
   "execution_count": 11,
   "metadata": {},
   "outputs": [],
   "source": [
    "# Prepare the data\n",
    "y_train = train_data_scaled[:, -1]\n",
    "x_train = train_data_scaled[:, :-1]\n",
    "\n",
    "# Split the train data into train and test data\n",
    "x_train, x_test, y_train, y_test = train_test_split(x_train, y_train, test_size=0.2, random_state=42)"
   ]
  },
  {
   "cell_type": "code",
   "execution_count": 12,
   "metadata": {},
   "outputs": [
    {
     "name": "stdout",
     "output_type": "stream",
     "text": [
      "WARNING:tensorflow:From C:\\Users\\ASUS\\AppData\\Roaming\\Python\\Python311\\site-packages\\keras\\src\\backend.py:873: The name tf.get_default_graph is deprecated. Please use tf.compat.v1.get_default_graph instead.\n",
      "\n",
      "WARNING:tensorflow:From C:\\Users\\ASUS\\AppData\\Roaming\\Python\\Python311\\site-packages\\keras\\src\\optimizers\\__init__.py:309: The name tf.train.Optimizer is deprecated. Please use tf.compat.v1.train.Optimizer instead.\n",
      "\n",
      "Epoch 1/8\n",
      "WARNING:tensorflow:From C:\\Users\\ASUS\\AppData\\Roaming\\Python\\Python311\\site-packages\\keras\\src\\utils\\tf_utils.py:492: The name tf.ragged.RaggedTensorValue is deprecated. Please use tf.compat.v1.ragged.RaggedTensorValue instead.\n",
      "\n",
      "WARNING:tensorflow:From C:\\Users\\ASUS\\AppData\\Roaming\\Python\\Python311\\site-packages\\keras\\src\\engine\\base_layer_utils.py:384: The name tf.executing_eagerly_outside_functions is deprecated. Please use tf.compat.v1.executing_eagerly_outside_functions instead.\n",
      "\n",
      "73/73 [==============================] - 1s 6ms/step - loss: 0.3782 - mae: 0.3913 - val_loss: 0.2837 - val_mae: 0.2993\n",
      "Epoch 2/8\n",
      "73/73 [==============================] - 0s 3ms/step - loss: 0.2234 - mae: 0.2873 - val_loss: 0.2336 - val_mae: 0.2785\n",
      "Epoch 3/8\n",
      "73/73 [==============================] - 0s 3ms/step - loss: 0.1922 - mae: 0.2784 - val_loss: 0.1923 - val_mae: 0.2780\n",
      "Epoch 4/8\n",
      "73/73 [==============================] - 0s 3ms/step - loss: 0.1888 - mae: 0.2719 - val_loss: 0.1894 - val_mae: 0.2704\n",
      "Epoch 5/8\n",
      "73/73 [==============================] - 0s 2ms/step - loss: 0.1713 - mae: 0.2624 - val_loss: 0.1968 - val_mae: 0.2643\n",
      "Epoch 6/8\n",
      "73/73 [==============================] - 0s 2ms/step - loss: 0.1677 - mae: 0.2576 - val_loss: 0.1739 - val_mae: 0.2521\n",
      "Epoch 7/8\n",
      "73/73 [==============================] - 0s 2ms/step - loss: 0.1543 - mae: 0.2494 - val_loss: 0.1780 - val_mae: 0.2492\n",
      "Epoch 8/8\n",
      "73/73 [==============================] - 0s 2ms/step - loss: 0.1522 - mae: 0.2435 - val_loss: 0.1644 - val_mae: 0.2473\n"
     ]
    },
    {
     "data": {
      "text/plain": [
       "<keras.src.callbacks.History at 0x1c8a82ca810>"
      ]
     },
     "execution_count": 12,
     "metadata": {},
     "output_type": "execute_result"
    }
   ],
   "source": [
    "# Create the model\n",
    "model01 = models.Sequential([\n",
    "    layers.Dense(64, activation='relu', input_shape=(len(selected_features) - 1,)),\n",
    "    layers.Dense(16, activation='relu'),\n",
    "    layers.Dense(1, activation='linear')\n",
    "])\n",
    "\n",
    "# Compile the model\n",
    "model01.compile(optimizer='adam', loss='mse', metrics=['mae'])\n",
    "# Train the model\n",
    "model01.fit(x_train, y_train, epochs=8, batch_size=16, validation_data=(x_test, y_test))"
   ]
  },
  {
   "cell_type": "code",
   "execution_count": 14,
   "metadata": {},
   "outputs": [
    {
     "name": "stdout",
     "output_type": "stream",
     "text": [
      "46/46 [==============================] - 0s 1ms/step\n"
     ]
    }
   ],
   "source": [
    "# Predict using the trained model\n",
    "result_scaled = model01.predict(test_data_scaled)\n",
    "\n",
    "# Combine scaled test data with scaled result\n",
    "combined_data_scaled = np.concatenate((test_data_scaled, result_scaled), axis=1)\n",
    "# Unscale the combined data to get the final result\n",
    "result = scaler.inverse_transform(combined_data_scaled)[:, -1]\n",
    "\n",
    "# Kiểm tra result có cái nào trống hoặc là số âm không, nếu có thì thay nó bằng 0\n",
    "result = np.where(result < 0, 0, result)\n",
    "result = np.where(np.isnan(result), 0, result)"
   ]
  },
  {
   "cell_type": "code",
   "execution_count": 15,
   "metadata": {},
   "outputs": [],
   "source": [
    "# Create the submission file\n",
    "submission = pd.DataFrame({'Id': test_id, 'SalePrice': result})\n",
    "# Save the submission file\n",
    "submission.to_csv(output_path, index=False)"
   ]
  }
 ],
 "metadata": {
  "kernelspec": {
   "display_name": "Python 3",
   "language": "python",
   "name": "python3"
  },
  "language_info": {
   "codemirror_mode": {
    "name": "ipython",
    "version": 3
   },
   "file_extension": ".py",
   "mimetype": "text/x-python",
   "name": "python",
   "nbconvert_exporter": "python",
   "pygments_lexer": "ipython3",
   "version": "3.11.5"
  }
 },
 "nbformat": 4,
 "nbformat_minor": 2
}
